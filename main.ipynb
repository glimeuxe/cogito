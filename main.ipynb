{
 "cells": [
  {
   "cell_type": "markdown",
   "metadata": {},
   "source": [
    "# Model α"
   ]
  },
  {
   "cell_type": "markdown",
   "metadata": {},
   "source": [
    "## Introduction\n",
    "### Definitions\n",
    "- Let `X` be a `m`-by-`n` matrix of input data, and `y` be a `m`-by-1 vector of output data, where `m` is the # of data points, and `n` is the # of features, so that `X` represents the features and `y` represents the labels.\n",
    "- Let `w` be a `n`-by-1 vector of weights, and `b` be a scalar of bias.\n",
    "- Let `dw` be the loss gradient w.r.t. `w`, and `db` be the loss gradient w.r.t. `b`.\n",
    "- Let `bs` be the batch size, `τ` be the # of epochs, and `α` be the learning rate.\n",
    "- Let `C` be the # of components (where `n` is the maximum possible # of components).\n",
    "- Let `ν` be the variance threshold.\n",
    "\n",
    "### Unicode Symbols\n",
    "1. α (alpha)\n",
    "2. τ (tau)\n",
    "3. ν (nu)\n",
    "\n",
    "### Naming Conventions\n",
    "1. Dataset is seen as a single word. Featureset refers to the features of a dataset, and labelset refers to the labels of a dataset."
   ]
  },
  {
   "cell_type": "markdown",
   "metadata": {},
   "source": [
    "### Setup"
   ]
  },
  {
   "cell_type": "code",
   "execution_count": 1,
   "metadata": {},
   "outputs": [],
   "source": [
    "# Import numpy for mathematical computation.\n",
    "import numpy as np\n",
    "# Import pandas for data manipulation.\n",
    "import pandas as pd\n",
    "# Import datetime for local time retrieval.\n",
    "from datetime import datetime\n",
    "# Import logging for file logging.\n",
    "import logging\n",
    "# Import time for duration measurement.\n",
    "import time\n",
    "# Import PCA and StandardScaler for PCA.\n",
    "from sklearn.decomposition import PCA\n",
    "from sklearn.preprocessing import StandardScaler\n",
    "# Import KNeighborsClassifier for KNN training.\n",
    "from sklearn.neighbors import KNeighborsClassifier\n",
    "\n",
    "# Initialise file logging configuration.\n",
    "logging.basicConfig(filename=\"predictions.log\", level=logging.INFO, format=\"%(asctime)s - %(message)s\", datefmt=\"%Y-%m-%d %H:%M:%S\")\n",
    "\n",
    "# Load sample submission dataset.\n",
    "# sample_submission = pd.read_csv(\"sample_submission.csv\")\n",
    "\n",
    "# Load train and test datasets.\n",
    "S_train = pd.read_csv(\"train.csv\")\n",
    "S_train_tfidf = pd.read_csv(\"train_tfidf_features.csv\")\n",
    "S_test = pd.read_csv(\"test.csv\")\n",
    "S_test_tfidf = pd.read_csv(\"test_tfidf_features.csv\")\n",
    "\n",
    "# Extract train features, train labels, and test features.\n",
    "X_train = S_train_tfidf.iloc[:, 2:].values\n",
    "y_train = S_train[\"label\"].values.reshape(-1, 1)\n",
    "X_test = S_test_tfidf.iloc[:, 1:].values"
   ]
  },
  {
   "cell_type": "markdown",
   "metadata": {},
   "source": [
    "## Task 1: Logistic Regression Model"
   ]
  },
  {
   "cell_type": "code",
   "execution_count": 2,
   "metadata": {},
   "outputs": [],
   "source": [
    "# Return σ(z) for some z.\n",
    "def σ(z):\n",
    "\treturn 1 / (1 + np.exp(-z))\n",
    "\n",
    "# Return cross-entropy loss for some y and ŷ.\n",
    "def loss(y, ŷ):\n",
    "\t# Compute m.\n",
    "\tm, _ = y.shape\n",
    "\treturn -1/m * np.sum(y * np.log(ŷ) + (1 - y) * np.log(1 - ŷ))\n",
    "\n",
    "# Return dw and db, for some X, y, and ŷ.\n",
    "def gradients(X, y, ŷ):\n",
    "\t# Compute m.\n",
    "\tm, _ = X.shape\n",
    "\t# Compute dw = 1/m * \\sum_{i=1}^{m}(ŷ^{(i)} - y^{(i)})x^{(i)}.\n",
    "\tdw = 1/m * np.dot(X.T, (ŷ - y))\n",
    "\t# Compute db = 1/m * \\sum_{i=1}^{m}(ŷ^{(i)} - y^{(i)}).\n",
    "\tdb = 1/m * np.sum(ŷ - y)\n",
    "\treturn dw, db\n",
    "\n",
    "# Return w and b from batched gradient descent on X and y, for batch size bs, epochs τ, and learning rate α.\n",
    "def train_logistic(X, y, bs, τ, α):\n",
    "\t# Compute m and n.\n",
    "\tm, n = X.shape\n",
    "\t# Initialise w to 0 vector and b to 0.\n",
    "\tw, b = np.zeros((n, 1)), 0\n",
    "\t# For each epoch:\n",
    "\tfor epoch in range(τ):\n",
    "\t\t# For every batch within epoch:\n",
    "\t\tfor i in range(0, m, bs):\n",
    "\t\t\tX_batch, y_batch = X[i:i+bs], y[i:i+bs]\n",
    "\t\t\tŷ = σ(np.dot(X_batch, w) + b)\n",
    "\t\t\tdw, db = gradients(X_batch, y_batch, ŷ)\n",
    "\t\t\tw, b = w - α*dw, b - α*db\n",
    "\treturn w, b\n",
    "\n",
    "# Return array of predictions, where each prediction is 1 if corresponding ŷ entry > 0.5, and 0 otherwise.\n",
    "def predict_logistic(X, w, b):\n",
    "\t# Compute ŷ = σ(w⋅X + b).\n",
    "\tŷ = σ(np.dot(X, w) + b)\n",
    "\treturn [1 if p > 0.5 else 0 for p in ŷ]\n",
    "\n",
    "# Train model, make model predictions, and save model predictions to CSV file, for some bs, τ, and α.\n",
    "def generate_predictions_logistic(X_train, y_train, X_test, bs, τ, α):\n",
    "\tstart_time = time.time()\n",
    "\tw, b = train_logistic(X_train, y_train, bs, τ, α)\n",
    "\tfile_name = f\"predictions_bs={bs}_τ={τ}_α={α}.csv\"\n",
    "\tpd.DataFrame({\n",
    "\t\t\"id\": S_test[\"id\"],\n",
    "\t\t\"label\": predict_logistic(X_test, w, b)\n",
    "\t}).to_csv(file_name, index=False)\n",
    "\tend_time = time.time()\n",
    "\n",
    "\tlocal_time = datetime.now().strftime('%Y-%m-%d %H:%M:%S')\n",
    "\t# Log message to predictions.log.\n",
    "\tlogging.info(f\"Predictions file {file_name} generated in {end_time - start_time:.2f}s.\")\n",
    "\n",
    "generate_predictions_logistic(X_train, y_train, X_test, 128, 50, 0.1)\n"
   ]
  },
  {
   "cell_type": "markdown",
   "metadata": {},
   "source": [
    "## Task 2: PCA Feature Dimensionality Reduction"
   ]
  },
  {
   "cell_type": "code",
   "execution_count": 3,
   "metadata": {},
   "outputs": [
    {
     "name": "stderr",
     "output_type": "stream",
     "text": [
      "/Users/gregory/miniconda3/envs/Jupyter/lib/python3.11/site-packages/sklearn/neighbors/_classification.py:238: DataConversionWarning: A column-vector y was passed when a 1d array was expected. Please change the shape of y to (n_samples,), for example using ravel().\n",
      "  return self._fit(X, y)\n"
     ]
    }
   ],
   "source": [
    "# Return PCA-transformed train and test feature, for some ν.\n",
    "def apply_pca(X_train, X_test, ν):\n",
    "\t# Instantiate StandardScaler and PCA objects.\n",
    "\tscaler = StandardScaler()\n",
    "\tpca = PCA(n_components=ν)\n",
    "\n",
    "\tX_train_pca = pca.fit_transform(scaler.fit_transform(X_train))\n",
    "\tX_test_pca = pca.transform(scaler.transform(X_test))\n",
    "\n",
    "\t# Return the transformed featuresets and the number of components.\n",
    "\treturn X_train_pca, X_test_pca, pca.n_components_\n",
    "\n",
    "# Return KNN predictions for PCA-transformed train and test datasets.\n",
    "def train_and_predict_knn(X_train_pca, y_train, X_test_pca):\n",
    "\t# Instantiate KNeighborsClassifier with 2 neighbors.\n",
    "\tknn = KNeighborsClassifier(n_neighbors=2)\n",
    "\t# Train KNN model on the PCA-transformed training data.\n",
    "\tknn.fit(X_train_pca, y_train)\n",
    "\t# Predict labels for the PCA-transformed test data.\n",
    "\treturn knn.predict(X_test_pca)\n",
    "\n",
    "# Train model, make model predictions, and save model predictions to CSV file, for some ν.\n",
    "def generate_predictions_pcaknn(X_train, y_train, X_test, ν):\n",
    "\tstart_time = time.time()\n",
    "\tX_train_pca, X_test_pca, n_components = apply_pca(X_train, X_test, ν)\n",
    "\n",
    "\tfile_name = f\"predictions_ν={ν}_components={n_components}.csv\"\n",
    "\tpd.DataFrame({\n",
    "\t\t\"id\": S_test[\"id\"],\n",
    "\t\t\"label\": train_and_predict_knn(X_train_pca, y_train, X_test_pca)\n",
    "\t}).to_csv(file_name, index=False)\n",
    "\tend_time = time.time()\n",
    "\n",
    "\tlocal_time = datetime.now().strftime('%Y-%m-%d %H:%M:%S')\n",
    "\t# Log message to predictions.log.\n",
    "\tlogging.info(f\"Predictions file {file_name} generated in {end_time - start_time:.2f}s.\")\n",
    "\n",
    "generate_predictions_pcaknn(X_train, y_train, X_test, ν=0.8)"
   ]
  }
 ],
 "metadata": {
  "kernelspec": {
   "display_name": "Jupyter",
   "language": "python",
   "name": "jupyter"
  },
  "language_info": {
   "codemirror_mode": {
    "name": "ipython",
    "version": 3
   },
   "file_extension": ".py",
   "mimetype": "text/x-python",
   "name": "python",
   "nbconvert_exporter": "python",
   "pygments_lexer": "ipython3",
   "version": "3.11.5"
  }
 },
 "nbformat": 4,
 "nbformat_minor": 2
}
