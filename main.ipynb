{
 "cells": [
  {
   "cell_type": "markdown",
   "metadata": {},
   "source": [
    "# Cogito"
   ]
  },
  {
   "cell_type": "markdown",
   "metadata": {},
   "source": [
    "## Definitions\n",
    "- `m` is # of data points.\n",
    "- `n` is # of features.\n",
    "- `X` is `m`-by-`n` matrix representing features.\n",
    "- `y` is `m`-by-1 vector representing labels.\n",
    "- `w` is `n`-by-1 vector representing weights.\n",
    "- `b` is scalar representing bias.\n",
    "- `dw` is loss gradient w.r.t. `w`.\n",
    "- `db` is loss gradient w.r.t. `b`.\n",
    "\n",
    "### logreg(τ,α,G,β,R,λ)\n",
    "1. `τ` is # of epochs: non-negative integer.\n",
    "2. `α` is learning rate: float in range ${[0,1]}$.\n",
    "3. `G` is gradient descent type: `\"full-batch\"`, `\"mini-batch\"`, xor `\"stochastic\"`.\n",
    "4. `β` is batch size: non-negative integer xor `None`.\n",
    "5. `R` is regularisation type: `\"L2\"`, `\"L1\"`, xor `None`.\n",
    "6. `λ` is regularisation degree: real in range ${[0,\\infin)}$.\n",
    "\n",
    "### pcaknn(ρ,ν)\n",
    "1. `ρ` is # of principal components: integer in range ${[0,n]}$.\n",
    "2. `ν` is variance ratio: float in range ${[0,1]}$.\n",
    "\n",
    "### svm(λ,K,p,γ,κ,τ,seed)\n",
    "1. `λ` is margin regularisation degree.\n",
    "2. `K` is kernel type: `\"linear\"`, `\"poly\"`, `\"rbf\"`, `\"sigmoid\"`, xor `\"precomputed\"`.\n",
    "3. `p` is polynomial kernel degree for polynomial kernel type: non-negative integer.\n",
    "4. `γ` is kernel coefficient for RBF, polynomial, xor sigmoid kernel type: `\"scale\"`, `\"auto\"`, xor float in range ${[0,1]}$.\n",
    "5. `κ` is independent term of kernel function with effect for polynomial xor sigmoid kernel type.\n",
    "6. `τ` is maximum # of iterations: non-negative integer xor `-1`.\n",
    "7. `seed` is pseudorandom random state: integer xor `None`.\n",
    "\n",
    "#### rforest(η,C,Δ,ψ,ℓ,θ,δ,B,seed)\n",
    "1. `η` is # of estimators: non-negative integer.\n",
    "2. `C` is criterion to measure split quality: `\"entropy\"`, `\"log_loss\"`, xor `\"gini\"`.\n",
    "3. `Δ` is maximum tree depth: non-negative integer xor `None`.\n",
    "4. `ψ` is minimum # of samples needed to split internal node: non-negative integer.\n",
    "5. `ℓ` is minimum # of samples needed at leaf node: non-negative integer.\n",
    "6. `θ` is maximum # of leaf nodes: non-negative integer xor `None`.\n",
    "7. `δ` is minimum impurity decrease: float in range ${[0,1]}$.\n",
    "8. `B` is whether bootstrapping is used: `False` xor `True`.\n",
    "9. `seed` is pseudorandom random state: integer xor `None`.\n",
    "\n",
    "### gbdtree(α,η,ss,ψ,ℓ,Δ,δ,seed,θ)\n",
    "1. `α` is learning rate: float in range ${[0,1]}$.\n",
    "2. `η` is # of estimators: non-negative integer.\n",
    "3. `ss` is fraction of samples used to fit individual base learners: float in range ${[0,1]}$.\n",
    "4. `ψ` is minimum # of samples needed to split internal node: non-negative integer.\n",
    "5. `ℓ` is minimum # of samples needed at leaf node: non-negative integer.\n",
    "6. `Δ` is maximum tree depth: non-negative integer xor `None`.\n",
    "7. `δ` is minimum impurity decrease: float in range ${[0,1]}$.\n",
    "8. `seed` is pseudorandom random state: integer xor `None`.\n",
    "9. `θ` is maximum # of leaf nodes: non-negative integer xor `None`.\n",
    "\n",
    "#### hgbdtree(α,τ,θ,Δ,l,seed)\n",
    "1. `α` is learning rate: float in range ${[0,1]}$.\n",
    "2. `τ` is maximum # of iterations: non-negative integer.\n",
    "3. `θ` is maximum # of leaf nodes: non-negative integer xor `None`.\n",
    "4. `Δ` is maximum tree depth: non-negative integer xor `None`.\n",
    "5. `l` is minimum # of samples needed at leaf node: non-negative integer xor `None`.\n",
    "6. `seed` is pseudorandom random state: integer xor `None`.\n"
   ]
  },
  {
   "cell_type": "markdown",
   "metadata": {},
   "source": [
    "## Setup\n",
    "- numpy, pandas, and sklearn (scikit-learn) must be installed and available."
   ]
  },
  {
   "cell_type": "code",
   "execution_count": 9,
   "metadata": {},
   "outputs": [],
   "source": [
    "# Import os for operating system functions.\n",
    "import os\n",
    "# Import numpy for mathematical computation.\n",
    "import numpy as np\n",
    "# Import pandas for data manipulation.\n",
    "import pandas as pd\n",
    "# Import datetime for local time retrieval.\n",
    "from datetime import datetime\n",
    "# Import logging for file logging.\n",
    "import logging\n",
    "# Import time for duration measurement.\n",
    "import time\n",
    "\n",
    "# Import KFold and f1_score for cross-validation.\n",
    "from sklearn.model_selection import KFold\n",
    "from sklearn.metrics import f1_score\n",
    "\n",
    "# Import PCA and KNeighborsClassifier for pcaknn.\n",
    "from sklearn.decomposition import PCA\n",
    "from sklearn.neighbors import KNeighborsClassifier\n",
    "# Import RandomForestClassifier for rforest.\n",
    "from sklearn.ensemble import RandomForestClassifier\n",
    "# Import SVC for svm.\n",
    "from sklearn.svm import SVC\n",
    "# Import GradientBoostingClassifier for gbdtree.\n",
    "from sklearn.ensemble import GradientBoostingClassifier\n",
    "# Import HistGradientBoostingClassifier for hgbdtree.\n",
    "from sklearn.ensemble import HistGradientBoostingClassifier\n",
    "# Import xgboost for xgbdtree.\n",
    "import xgboost as xgb\n",
    "\n",
    "from sklearn.ensemble import StackingClassifier\n",
    "from sklearn.linear_model import LogisticRegression\n",
    "from sklearn.base import BaseEstimator, ClassifierMixin\n",
    "\n",
    "from sklearn.preprocessing import StandardScaler\n",
    "\n",
    "# Initialise file logging configuration.\n",
    "logging.basicConfig(\n",
    "\tfilename=\"main.log\",\n",
    "\tlevel=logging.INFO,\n",
    "\tformat=\"%(asctime)s - %(message)s\",\n",
    "\tdatefmt=\"%Y-%m-%d %H:%M:%S\"\n",
    ")\n",
    "\n",
    "# Load train and test datasets.\n",
    "S_train = pd.read_csv(\"./data/train.csv\")\n",
    "S_train_tfidf = pd.read_csv(\"./data/train_tfidf_features.csv\")\n",
    "S_test = pd.read_csv(\"./data/test.csv\")\n",
    "S_test_tfidf = pd.read_csv(\"./data/test_tfidf_features.csv\")\n",
    "\n",
    "# Extract train features, train labels, and test features.\n",
    "X_train = S_train_tfidf.iloc[:, 2:].values\n",
    "y_train = S_train[\"label\"].values.reshape(-1, 1)\n",
    "X_test = S_test_tfidf.iloc[:, 1:].values\n",
    "\n",
    "# Return σ(z) for some z.\n",
    "def σ(z): return 1 / (1 + np.exp(-z))\n",
    "\n",
    "# Return cross-entropy loss for some y and ŷ.\n",
    "def loss(y, ŷ): return (-1/(y.shape[0])) * np.sum(y * np.log(ŷ) + (1 - y) * np.log(1 - ŷ))\n",
    "\n",
    "# Return PCA-transformed train and test featuresets, for either some ν or ρ.\n",
    "def apply_pca(mode_value, mode):\n",
    "\t# Instantiate PCA and StandardScaler objects.\n",
    "\tpca = PCA(n_components=mode_value)\n",
    "\tscaler = StandardScaler()\n",
    "\t# PCA-transform train and test featuresets.\n",
    "\tX_train_pca = pca.fit_transform(scaler.fit_transform(X_train))\n",
    "\tX_test_pca = pca.transform(scaler.transform(X_test))\n",
    "\t# Return PCA-transformed featuresets and # of components.\n",
    "\treturn X_train_pca, X_test_pca, pca.n_components_\n",
    "\n",
    "def crossvalidate(train_fn, predict_fn, grid, X, y, k=2):\n",
    "\tkf = KFold(n_splits=k, shuffle=True, random_state=7)\n",
    "\tbest_score = -np.inf\n",
    "\tbest_hyperparameters = None\n",
    "\tfor hyperparameters in grid:\n",
    "\t\tscores = []\n",
    "\t\tfor train_index, val_index in kf.split(X):\n",
    "\t\t\tX_train, X_val = X[train_index], X[val_index]\n",
    "\t\t\ty_train, y_val = y[train_index], y[val_index]\n",
    "\t\t\tprint(hyperparameters)\n",
    "\t\t\tmodel = train_fn(X_train, y_train, **hyperparameters)\n",
    "\t\t\ty_pred = predict_fn(model, X_val)\n",
    "\t\t\tscores.append(f1_score(y_val, y_pred, average='macro'))\n",
    "\t\tmean_score = np.mean(scores)\n",
    "\t\tif mean_score > best_score:\n",
    "\t\t\tbest_score = mean_score\n",
    "\t\t\tbest_hyperparameters = hyperparameters\n",
    "\treturn best_hyperparameters, best_score\n",
    "\n",
    "def crossvalidate_and_generate_predictions(model_name, grid, k=5):\n",
    "\ttrain_fn = globals().get(f\"train_{model_name.lower()}\")\n",
    "\tpredict_fn = globals().get(f\"predict_{model_name.lower()}\")\n",
    "\tgenerate_predictions_fn = globals().get(f\"generate_predictions_{model_name.lower()}\")\n",
    "\n",
    "\tif not train_fn or not predict_fn or not generate_predictions_fn:\n",
    "\t\traise ValueError(f\"Functions for '{model_name}' not found. Ensure that 'train_{model_name.lower()}', 'predict_{model_name.lower()}', and 'generate_predictions_{model_name.lower()}' exist.\")\n",
    "\n",
    "\tbest_hyperparameters, best_score = crossvalidate(train_fn, predict_fn, grid, X_train, y_train, k=k)\n",
    "\n",
    "\tprint(f\"Best hyperparameters for {model_name}:\", best_hyperparameters)\n",
    "\tprint(f\"Best cross-validation f1 score for {model_name}:\", best_score)\n",
    "\n",
    "\tgenerate_predictions_fn(**best_hyperparameters)"
   ]
  },
  {
   "cell_type": "markdown",
   "metadata": {},
   "source": [
    "## Task 1\n",
    "### Logistic Regression Model (`logreg`)"
   ]
  },
  {
   "cell_type": "code",
   "execution_count": 2,
   "metadata": {},
   "outputs": [
    {
     "name": "stdout",
     "output_type": "stream",
     "text": [
      "Best hyperparameters for logreg: {'τ': 1, 'α': 0.0825, 'G': 'mini-batch', 'β': 128, 'R': None, 'λ': 0}\n",
      "Best cross-validation f1 score for logreg: 0.38224160599504164\n",
      "Predictions file ./predictions/logreg/τ=1,α=0.0825,G=mini-batch,β=128,R=None,λ=0.csv generated in 1.00s.\n"
     ]
    }
   ],
   "source": [
    "# Return dw and db, for some X, y, ŷ, w, λ, and R.\n",
    "def gradients_logreg(X, y, ŷ, w, R=None, λ=0):\n",
    "\tm, _ = X.shape\n",
    "\tdw = 1/m * np.dot(X.T, (ŷ - y))\n",
    "\tdb = 1/m * np.sum(ŷ - y)\n",
    "\tif R == \"L2\":\n",
    "\t\tdw += λ * w / m\n",
    "\telif R == \"L1\":\n",
    "\t\tdw += λ * np.sign(w) / m\n",
    "\treturn dw, db\n",
    "\n",
    "# Return w and b from gradient descent on X and y, for some τ, α, G, β, R, and λ.\n",
    "def train_logreg(X_train, y_train, τ=1000, α=0.1, G=\"mini-batch\", β=128, R=None, λ=0):\n",
    "\tm, n = X_train.shape\n",
    "\tw, b = np.zeros((n, 1)), 0\n",
    "\tfor epoch in range(τ):\n",
    "\t\tif G == \"full-batch\":\n",
    "\t\t\tX_batch, y_batch = X_train, y_train\n",
    "\t\t\tŷ = σ(np.dot(X_batch, w) + b)\n",
    "\t\t\tdw, db = gradients_logreg(X_batch, y_batch, ŷ, w, R, λ)\n",
    "\t\t\tw, b = w - α*dw, b - α*db\n",
    "\t\telif G == \"mini-batch\":\n",
    "\t\t\tfor i in range(0, m, β):\n",
    "\t\t\t\tX_batch, y_batch = X_train[i:i+β], y_train[i:i+β]\n",
    "\t\t\t\tŷ = σ(np.dot(X_batch, w) + b)\n",
    "\t\t\t\tdw, db = gradients_logreg(X_batch, y_batch, ŷ, w, R, λ)\n",
    "\t\t\t\tw, b = w - α*dw, b - α*db\n",
    "\t\telif G == \"stochastic\":\n",
    "\t\t\tfor i in range(m):\n",
    "\t\t\t\tX_batch, y_batch = X_train[i:i+1], y_train[i:i+1]\n",
    "\t\t\t\tŷ = σ(np.dot(X_batch, w) + b)\n",
    "\t\t\t\tdw, db = gradients_logreg(X_batch, y_batch, ŷ, w, R, λ)\n",
    "\t\t\t\tw, b = w - α*dw, b - α*db\n",
    "\treturn w, b\n",
    "\n",
    "# Return array of predictions, where each prediction is 1 if corresponding ŷ entry > 0.5, and 0 otherwise.\n",
    "def predict_logreg(wb_tuple, X):\n",
    "\tw, b = wb_tuple\n",
    "\tŷ = σ(np.dot(X, w) + b)\n",
    "\treturn np.array([1 if p > 0.5 else 0 for p in ŷ])\n",
    "\n",
    "# Train model, make model predictions, and save model predictions to CSV file, for some β, τ, α, λ, L, and G.\n",
    "def generate_predictions_logreg(τ=1000, α=0.1, G=\"mini-batch\", β=128, R=None, λ=0):\n",
    "\tstart_time = time.time()\n",
    "\tw, b = train_logreg(np.array(X_train), np.array(y_train), τ, α, G, β, R, λ)\n",
    "\tpredictions = predict_logreg((w, b), np.array(X_test))\n",
    "\tos.makedirs(\"./predictions/logreg/\", exist_ok=True)\n",
    "\tfile_name = os.path.join(\"./predictions/logreg/\", f\"τ={τ},α={α},G={G},β={β},R={R},λ={λ}.csv\")\n",
    "\tsubmission = pd.DataFrame({\n",
    "\t\t\"id\": S_test[\"id\"],\n",
    "\t\t\"label\": predictions\n",
    "\t})\n",
    "\tsubmission.to_csv(file_name, index=False)\n",
    "\tend_time = time.time()\n",
    "\tlogging.info(f\"Predictions file {file_name} generated in {end_time - start_time:.2f}s.\")\n",
    "\tprint(f\"Predictions file {file_name} generated in {end_time - start_time:.2f}s.\")\n",
    "\n",
    "crossvalidate_and_generate_predictions(\n",
    "\tmodel_name=\"logreg\",\n",
    "\tgrid=[\n",
    "\t\t{\"τ\": 1, \"α\": 0.0825, \"G\": \"mini-batch\", \"β\": 128, \"R\": None, \"λ\": 0},\n",
    "\t\t{\"τ\": 2, \"α\": 0.085, \"G\": \"full-batch\", \"β\": 64, \"R\": \"L2\", \"λ\": 0.1},\n",
    "\t],\n",
    "\tk=5\n",
    ")"
   ]
  },
  {
   "cell_type": "code",
   "execution_count": 3,
   "metadata": {},
   "outputs": [],
   "source": [
    "# def train_logreg(τ=1000, α=0.1, G=\"mini-batch\", β=128, R=None, λ=0):\n",
    "# \tm, n = X_train.shape\n",
    "# \tw, b = np.zeros((n, 1)), 0\n",
    "# \tfor epoch in range(τ):\n",
    "# \t\tif G == \"full-batch\":\n",
    "# \t\t\tX_batch, y_batch = X_train, y_train\n",
    "# \t\t\tŷ = σ(np.dot(X_batch, w) + b)\n",
    "# \t\t\tdw, db = gradients_logreg(X_batch, y_batch, ŷ, w, R, λ)\n",
    "# \t\t\tw, b = w - α*dw, b - α*db\n",
    "# \t\telif G == \"mini-batch\":\n",
    "# \t\t\tfor i in range(0, m, β):\n",
    "# \t\t\t\tX_batch, y_batch = X_train[i:i+β], y_train[i:i+β]\n",
    "# \t\t\t\tŷ = σ(np.dot(X_batch, w) + b)\n",
    "# \t\t\t\tdw, db = gradients_logreg(X_batch, y_batch, ŷ, w, R, λ)\n",
    "# \t\t\t\tw, b = w - α*dw, b - α*db\n",
    "# \t\telif G == \"stochastic\":\n",
    "# \t\t\tfor i in range(m):\n",
    "# \t\t\t\tX_batch, y_batch = X_train[i:i+1], y_train[i:i+1]\n",
    "# \t\t\t\tŷ = σ(np.dot(X_batch, w) + b)\n",
    "# \t\t\t\tdw, db = gradients_logreg(X_batch, y_batch, ŷ, w, R, λ)\n",
    "# \t\t\t\tw, b = w - α*dw, b - α*db\n",
    "# \treturn w, b\n",
    "\n",
    "# def predict_logreg(w, b):\n",
    "# \t# Compute ŷ = σ(w ⋅ X + b).\n",
    "# \tŷ = σ(np.dot(X_test, w) + b)\n",
    "# \treturn [1 if p > 0.5 else 0 for p in ŷ]\n",
    "\n",
    "# def generate_predictions_logreg(τ=1000, α=0.1, G=\"mini-batch\", β=128, R=None, λ=0):\n",
    "# \tstart_time = time.time()\n",
    "# \tw, b = train_logreg(τ, α, G, β, R, λ)\n",
    "# \tos.makedirs(\"./predictions/logreg/\", exist_ok=True)\n",
    "# \tfile_name = os.path.join(\"./predictions/logreg/\", f\"τ={τ},α={α},G={G},β={β},R={R},λ={λ}.csv\")\n",
    "# \tpd.DataFrame({\n",
    "# \t\t\"id\": S_test[\"id\"],\n",
    "# \t\t\"label\": predict_logreg(w, b)\n",
    "# \t}).to_csv(file_name, index=False)\n",
    "# \tend_time = time.time()\n",
    "# \t# Log and print success message.\n",
    "# \tlogging.info(f\"Predictions file {file_name} generated in {end_time - start_time:.2f}s.\")\n",
    "# \tprint(f\"Predictions file {file_name} generated in {end_time - start_time:.2f}s.\")"
   ]
  },
  {
   "cell_type": "markdown",
   "metadata": {},
   "source": [
    "## Task 2\n",
    "### PCA-KNN Model (`pcaknn`)"
   ]
  },
  {
   "cell_type": "code",
   "execution_count": 4,
   "metadata": {},
   "outputs": [],
   "source": [
    "# Train model, make model predictions, and save model predictions to CSV file, for some ν or ρ.\n",
    "def generate_predictions_pcaknn(mode_value, mode=\"ρ\"):\n",
    "\t# Validate mode and mode value.\n",
    "\tif mode not in [\"ν\", \"ρ\"] or (mode == \"ν\" and not (0 < mode_value <= 1)) or (mode == \"ρ\" and not (mode_value > 1 and isinstance(mode_value, int))): raise ValueError(\"Mode must either be ν with value between 0 and 1, or ρ with mode_value as an integer greater than 1.\")\n",
    "\n",
    "\tstart_time = time.time()\n",
    "\tX_train_pca, X_test_pca, n_components = apply_pca(mode_value, mode)\n",
    "\tknn = KNeighborsClassifier(n_neighbors=2)\n",
    "\tknn.fit(X_train_pca, y_train)\n",
    "\tpredictions = knn.predict(X_test_pca)\n",
    "\tos.makedirs(\"./predictions/pcaknn/\", exist_ok=True)\n",
    "\tif mode == \"ν\":\n",
    "\t\tfile_name = os.path.join(\"./predictions/pcaknn/\", f\"pcaknn(ν={mode_value},ρ={n_components}).csv\")\n",
    "\telse:\n",
    "\t\tfile_name = os.path.join(\"./predictions/pcaknn/\", f\"pcaknn(ρ={n_components}).csv\")\n",
    "\tpd.DataFrame({\n",
    "\t\t\"id\": S_test[\"id\"],\n",
    "\t\t\"label\": predictions\n",
    "\t}).to_csv(file_name, index=False)\n",
    "\tend_time = time.time()\n",
    "\n",
    "\t# Log and print success message.\n",
    "\tlogging.info(f\"Predictions file {file_name} generated in {end_time - start_time:.2f}s.\")\n",
    "\tprint(f\"Predictions file {file_name} generated in {end_time - start_time:.2f}s.\")\n",
    "\n",
    "# generate_predictions_pcaknn(mode_value=0.95, mode=\"ν\")\n",
    "# generate_predictions_pcaknn(mode_value=1000, mode=\"ρ\")"
   ]
  },
  {
   "cell_type": "markdown",
   "metadata": {},
   "source": [
    "## Task 3: Other Models"
   ]
  },
  {
   "cell_type": "markdown",
   "metadata": {},
   "source": [
    "### Random Forest Model (`rforest`)"
   ]
  },
  {
   "cell_type": "code",
   "execution_count": 5,
   "metadata": {},
   "outputs": [],
   "source": [
    "# Train RandomForest classifier, make predictions, and save predictions to CSV file.\n",
    "def generate_predictions_rforest(η=100, C=\"gini\", Δ=None, ψ=2, ℓ=1, θ=None, δ=0.0, B=True, seed=None):\n",
    "\tstart_time = time.time()\n",
    "\trf = RandomForestClassifier(\n",
    "\t\tn_estimators=η,\n",
    "\t\tcriterion=C,\n",
    "\t\tmax_depth=Δ,\n",
    "\t\tmin_samples_split=ψ,\n",
    "\t\tmin_samples_leaf=ℓ,\n",
    "\t\tmax_leaf_nodes=θ,\n",
    "\t\tmin_impurity_decrease=δ,\n",
    "\t\tbootstrap=B,\n",
    "\t\tn_jobs=-1,\n",
    "\t\trandom_state=seed\n",
    "\t)\n",
    "\trf.fit(X_train, y_train.ravel())\n",
    "\tpredictions = rf.predict(X_test)\n",
    "\tos.makedirs(\"./predictions/rforest/\", exist_ok=True)\n",
    "\tfile_name = os.path.join(\"./predictions/rforest/\", f\"η={η},C={C},Δ={Δ},ψ={ψ},ℓ={ℓ},θ={θ},δ={δ},B={B},seed={seed}.csv\")\n",
    "\tpd.DataFrame({\n",
    "\t\t\"id\": S_test[\"id\"],\n",
    "\t\t\"label\": predictions\n",
    "\t}).to_csv(file_name, index=False)\n",
    "\tend_time = time.time()\n",
    "\t# Log and print success message.\n",
    "\tlogging.info(f\"Predictions file {file_name} generated in {end_time - start_time:.2f}s.\")\n",
    "\tprint(f\"Predictions file {file_name} generated in {end_time - start_time:.2f}s.\")\n",
    "\n",
    "# generate_predictions_rforest(η=100, C=\"gini\", Δ=None, ψ=2, ℓ=1, θ=None, δ=0.0, B=True, seed=None)"
   ]
  },
  {
   "cell_type": "markdown",
   "metadata": {},
   "source": [
    "### SVM Model (`svm`)"
   ]
  },
  {
   "cell_type": "code",
   "execution_count": 6,
   "metadata": {},
   "outputs": [],
   "source": [
    "# Train SVM classifier, make predictions, and save predictions to CSV file.\n",
    "def generate_predictions_svm(λ=1.0, K=\"rbf\", p=3, γ=\"scale\", κ=0.0, τ=-1, seed=None):\n",
    "\tstart_time = time.time()\n",
    "\tsvm_clf = SVC(\n",
    "\t\tC=λ,\n",
    "\t\tkernel=K,\n",
    "\t\tdegree=p,\n",
    "\t\tgamma=γ,\n",
    "\t\tcoef0=κ,\n",
    "\t\tmax_iter=τ,\n",
    "\t\trandom_state=seed\n",
    "\t)\n",
    "\tsvm_clf.fit(X_train, y_train.ravel())\n",
    "\tpredictions = svm_clf.predict(X_test)\n",
    "\tos.makedirs(\"./predictions/svm/\", exist_ok=True)\n",
    "\tfile_name = os.path.join(\"./predictions/svm/\", f\"λ={λ},K={K},p={p},γ={γ},κ={κ},τ={τ},seed={seed}.csv\")\n",
    "\tsubmission = pd.DataFrame({\n",
    "\t\t\"id\": S_test[\"id\"],\n",
    "\t\t\"label\": predictions\n",
    "\t})\n",
    "\tsubmission.to_csv(file_name, index=False)\n",
    "\tend_time = time.time()\n",
    "\t# Log and print success message.\n",
    "\tlogging.info(f\"Predictions file {file_name} generated in {end_time - start_time:.2f}s.\")\n",
    "\tprint(f\"Predictions file {file_name} generated in {end_time - start_time:.2f}s.\")\n",
    "\n",
    "# generate_predictions_svm(λ=1.0, K=\"rbf\", p=3, γ=\"scale\", κ=0.0, τ=-1, seed=None)"
   ]
  },
  {
   "cell_type": "markdown",
   "metadata": {},
   "source": [
    "### Gradient Boosted Decision Tree Model (`gbdtree`)"
   ]
  },
  {
   "cell_type": "code",
   "execution_count": 7,
   "metadata": {},
   "outputs": [],
   "source": [
    "def generate_predictions_gbdtree(α=0.1, η=100, ss=1.0, ψ=2, ℓ=1, Δ=3, δ=0.0, seed=None, θ=None):\n",
    "\tstart_time = time.time()\n",
    "\tgbc = GradientBoostingClassifier(\n",
    "\t\tlearning_rate=α,\n",
    "\t\tn_estimators=η,\n",
    "\t\tsubsample=ss,\n",
    "\t\tmin_samples_split=ψ,\n",
    "\t\tmin_samples_leaf=ℓ,\n",
    "\t\tmax_depth=Δ,\n",
    "\t\tmin_impurity_decrease=δ,\n",
    "\t\trandom_state=seed,\n",
    "\t\tmax_leaf_nodes=θ\n",
    "\t)\n",
    "\tgbc.fit(X_train, y_train)\n",
    "\tpredictions = gbc.predict(X_test)\n",
    "\tos.makedirs(\"./predictions/gbdtree/\", exist_ok=True)\n",
    "\tfile_name = os.path.join(\"./predictions/gbdtree/\", f\"α={α},η={η},ss={ss},ψ={ψ},ℓ={ℓ},Δ={Δ},δ={δ},seed={seed},θ={θ}.csv\")\n",
    "\tsubmission = pd.DataFrame({\n",
    "\t\t\"id\": S_test[\"id\"],\n",
    "\t\t\"label\": predictions\n",
    "\t})\n",
    "\tsubmission.to_csv(file_name, index=False)\n",
    "\tend_time = time.time()\n",
    "\tlogging.info(f\"Predictions file {file_name} generated in {end_time - start_time:.2f}s.\")\n",
    "\tprint(f\"Predictions file {file_name} generated in {end_time - start_time:.2f}s.\")"
   ]
  },
  {
   "cell_type": "markdown",
   "metadata": {},
   "source": [
    "### Histogram Gradient Boosted Decision Tree Model (`hgbdtree`)"
   ]
  },
  {
   "cell_type": "code",
   "execution_count": 11,
   "metadata": {},
   "outputs": [
    {
     "name": "stdout",
     "output_type": "stream",
     "text": [
      "{'α': 0.1, 'τ': 1, 'θ': 31, 'Δ': None, 'l': 20, 'seed': 42}\n"
     ]
    },
    {
     "name": "stderr",
     "output_type": "stream",
     "text": [
      "/Users/gregory/miniconda3/envs/Jupyter/lib/python3.11/site-packages/sklearn/utils/validation.py:1300: DataConversionWarning: A column-vector y was passed when a 1d array was expected. Please change the shape of y to (n_samples, ), for example using ravel().\n",
      "  y = column_or_1d(y, warn=True)\n"
     ]
    },
    {
     "name": "stdout",
     "output_type": "stream",
     "text": [
      "{'α': 0.1, 'τ': 1, 'θ': 31, 'Δ': None, 'l': 20, 'seed': 42}\n"
     ]
    },
    {
     "name": "stderr",
     "output_type": "stream",
     "text": [
      "/Users/gregory/miniconda3/envs/Jupyter/lib/python3.11/site-packages/sklearn/utils/validation.py:1300: DataConversionWarning: A column-vector y was passed when a 1d array was expected. Please change the shape of y to (n_samples, ), for example using ravel().\n",
      "  y = column_or_1d(y, warn=True)\n"
     ]
    },
    {
     "name": "stdout",
     "output_type": "stream",
     "text": [
      "{'α': 0.1, 'τ': 1, 'θ': 31, 'Δ': None, 'l': 20, 'seed': 42}\n"
     ]
    },
    {
     "name": "stderr",
     "output_type": "stream",
     "text": [
      "/Users/gregory/miniconda3/envs/Jupyter/lib/python3.11/site-packages/sklearn/utils/validation.py:1300: DataConversionWarning: A column-vector y was passed when a 1d array was expected. Please change the shape of y to (n_samples, ), for example using ravel().\n",
      "  y = column_or_1d(y, warn=True)\n"
     ]
    },
    {
     "name": "stdout",
     "output_type": "stream",
     "text": [
      "{'α': 0.1, 'τ': 1, 'θ': 31, 'Δ': None, 'l': 20, 'seed': 42}\n"
     ]
    },
    {
     "name": "stderr",
     "output_type": "stream",
     "text": [
      "/Users/gregory/miniconda3/envs/Jupyter/lib/python3.11/site-packages/sklearn/utils/validation.py:1300: DataConversionWarning: A column-vector y was passed when a 1d array was expected. Please change the shape of y to (n_samples, ), for example using ravel().\n",
      "  y = column_or_1d(y, warn=True)\n"
     ]
    },
    {
     "name": "stdout",
     "output_type": "stream",
     "text": [
      "{'α': 0.1, 'τ': 1, 'θ': 31, 'Δ': None, 'l': 20, 'seed': 42}\n"
     ]
    },
    {
     "name": "stderr",
     "output_type": "stream",
     "text": [
      "/Users/gregory/miniconda3/envs/Jupyter/lib/python3.11/site-packages/sklearn/utils/validation.py:1300: DataConversionWarning: A column-vector y was passed when a 1d array was expected. Please change the shape of y to (n_samples, ), for example using ravel().\n",
      "  y = column_or_1d(y, warn=True)\n"
     ]
    },
    {
     "name": "stdout",
     "output_type": "stream",
     "text": [
      "{'α': 0.1, 'τ': 2, 'θ': 31, 'Δ': None, 'l': 20, 'seed': 42}\n"
     ]
    },
    {
     "name": "stderr",
     "output_type": "stream",
     "text": [
      "/Users/gregory/miniconda3/envs/Jupyter/lib/python3.11/site-packages/sklearn/utils/validation.py:1300: DataConversionWarning: A column-vector y was passed when a 1d array was expected. Please change the shape of y to (n_samples, ), for example using ravel().\n",
      "  y = column_or_1d(y, warn=True)\n"
     ]
    },
    {
     "name": "stdout",
     "output_type": "stream",
     "text": [
      "{'α': 0.1, 'τ': 2, 'θ': 31, 'Δ': None, 'l': 20, 'seed': 42}\n"
     ]
    },
    {
     "name": "stderr",
     "output_type": "stream",
     "text": [
      "/Users/gregory/miniconda3/envs/Jupyter/lib/python3.11/site-packages/sklearn/utils/validation.py:1300: DataConversionWarning: A column-vector y was passed when a 1d array was expected. Please change the shape of y to (n_samples, ), for example using ravel().\n",
      "  y = column_or_1d(y, warn=True)\n"
     ]
    },
    {
     "name": "stdout",
     "output_type": "stream",
     "text": [
      "{'α': 0.1, 'τ': 2, 'θ': 31, 'Δ': None, 'l': 20, 'seed': 42}\n"
     ]
    },
    {
     "name": "stderr",
     "output_type": "stream",
     "text": [
      "/Users/gregory/miniconda3/envs/Jupyter/lib/python3.11/site-packages/sklearn/utils/validation.py:1300: DataConversionWarning: A column-vector y was passed when a 1d array was expected. Please change the shape of y to (n_samples, ), for example using ravel().\n",
      "  y = column_or_1d(y, warn=True)\n"
     ]
    },
    {
     "name": "stdout",
     "output_type": "stream",
     "text": [
      "{'α': 0.1, 'τ': 2, 'θ': 31, 'Δ': None, 'l': 20, 'seed': 42}\n"
     ]
    },
    {
     "name": "stderr",
     "output_type": "stream",
     "text": [
      "/Users/gregory/miniconda3/envs/Jupyter/lib/python3.11/site-packages/sklearn/utils/validation.py:1300: DataConversionWarning: A column-vector y was passed when a 1d array was expected. Please change the shape of y to (n_samples, ), for example using ravel().\n",
      "  y = column_or_1d(y, warn=True)\n"
     ]
    },
    {
     "name": "stdout",
     "output_type": "stream",
     "text": [
      "{'α': 0.1, 'τ': 2, 'θ': 31, 'Δ': None, 'l': 20, 'seed': 42}\n"
     ]
    },
    {
     "name": "stderr",
     "output_type": "stream",
     "text": [
      "/Users/gregory/miniconda3/envs/Jupyter/lib/python3.11/site-packages/sklearn/utils/validation.py:1300: DataConversionWarning: A column-vector y was passed when a 1d array was expected. Please change the shape of y to (n_samples, ), for example using ravel().\n",
      "  y = column_or_1d(y, warn=True)\n"
     ]
    },
    {
     "name": "stdout",
     "output_type": "stream",
     "text": [
      "Best hyperparameters for hgbdtree: {'α': 0.1, 'τ': 2, 'θ': 31, 'Δ': None, 'l': 20, 'seed': 42}\n",
      "Best cross-validation f1 score for hgbdtree: 0.3840559402758433\n"
     ]
    },
    {
     "name": "stderr",
     "output_type": "stream",
     "text": [
      "/Users/gregory/miniconda3/envs/Jupyter/lib/python3.11/site-packages/sklearn/utils/validation.py:1300: DataConversionWarning: A column-vector y was passed when a 1d array was expected. Please change the shape of y to (n_samples, ), for example using ravel().\n",
      "  y = column_or_1d(y, warn=True)\n"
     ]
    },
    {
     "name": "stdout",
     "output_type": "stream",
     "text": [
      "Predictions file ./predictions/hgbdtree/α=0.1,τ=2,θ=31,Δ=None,l=20,seed=42.csv generated in 3.86s.\n"
     ]
    }
   ],
   "source": [
    "def train_hgbdtree(X_train, y_train, α=0.1, τ=100, θ=31, Δ=None, l=20, seed=None):\n",
    "\thgbc = HistGradientBoostingClassifier(\n",
    "\t\tlearning_rate=α,\n",
    "\t\tmax_iter=τ,\n",
    "\t\tmax_leaf_nodes=θ,\n",
    "\t\tmax_depth=Δ,\n",
    "\t\tmin_samples_leaf=l,\n",
    "\t\trandom_state=seed\n",
    "\t)\n",
    "\thgbc.fit(X_train, y_train)\n",
    "\treturn hgbc\n",
    "\n",
    "def predict_hgbdtree(model, X):\n",
    "\treturn model.predict(X)\n",
    "\n",
    "def generate_predictions_hgbdtree(α=0.1, τ=100, θ=31, Δ=None, l=20, seed=None):\n",
    "\tstart_time = time.time()\n",
    "\thgbc = train_hgbdtree(np.array(X_train), np.array(y_train), α, τ, θ, Δ, l, seed)\n",
    "\tpredictions = predict_hgbdtree(hgbc, np.array(X_test))\n",
    "\tos.makedirs(\"./predictions/hgbdtree/\", exist_ok=True)\n",
    "\tfile_name = os.path.join(\"./predictions/hgbdtree/\", f\"α={α},τ={τ},θ={θ},Δ={Δ},l={l},seed={seed}.csv\")\n",
    "\tsubmission = pd.DataFrame({\n",
    "\t\t\"id\": S_test[\"id\"],\n",
    "\t\t\"label\": predictions\n",
    "\t})\n",
    "\tsubmission.to_csv(file_name, index=False)\n",
    "\tend_time = time.time()\n",
    "\tlogging.info(f\"Predictions file {file_name} generated in {end_time - start_time:.2f}s.\")\n",
    "\tprint(f\"Predictions file {file_name} generated in {end_time - start_time:.2f}s.\")\n",
    "\n",
    "crossvalidate_and_generate_predictions(\n",
    "\tmodel_name=\"hgbdtree\",\n",
    "\tgrid=[\n",
    "\t\t{\"α\": 0.1, \"τ\": 1, \"θ\": 31, \"Δ\": None, \"l\": 20, \"seed\": 42},\n",
    "\t\t{\"α\": 0.1, \"τ\": 2, \"θ\": 31, \"Δ\": None, \"l\": 20, \"seed\": 42}\n",
    "\t],\n",
    "\tk=5\n",
    ")"
   ]
  },
  {
   "cell_type": "markdown",
   "metadata": {},
   "source": [
    "### K-Nearest Neighbours Model (`knn`)"
   ]
  },
  {
   "cell_type": "code",
   "execution_count": null,
   "metadata": {},
   "outputs": [],
   "source": [
    "def generate_predictions_knn(k=5, W=\"uniform\", algo=\"auto\", ℓ=30, p=2, 𝓂=\"minkowski\"):\n",
    "\tstart_time = time.time()\n",
    "\tknn = KNeighborsClassifier(\n",
    "\t\tn_neighbors=k,\n",
    "\t\tweights=W,\n",
    "\t\talgorithm=algo,\n",
    "\t\tleaf_size=ℓ,\n",
    "\t\tp=p,\n",
    "\t\tmetric=𝓂,\n",
    "\t\tn_jobs=-1\n",
    "\t)\n",
    "\tknn.fit(X_train, y_train)\n",
    "\tpredictions = knn.predict(X_test)\n",
    "\tos.makedirs(\"./predictions/knn/\", exist_ok=True)\n",
    "\tfile_name = os.path.join(\"./predictions/knn/\", f\"k={k},W={W},algo={algo},ℓ={ℓ},p={p},𝓂={𝓂}.csv\")\n",
    "\tsubmission = pd.DataFrame({\n",
    "\t\t\"id\": S_test[\"id\"],\n",
    "\t\t\"label\": predictions\n",
    "\t})\n",
    "\tsubmission.to_csv(file_name, index=False)\n",
    "\tend_time = time.time()\n",
    "\tlogging.info(f\"Predictions file {file_name} generated in {end_time - start_time:.2f}s.\")\n",
    "\tprint(f\"Predictions file {file_name} generated in {end_time - start_time:.2f}s.\")"
   ]
  },
  {
   "cell_type": "markdown",
   "metadata": {},
   "source": [
    "### XGBoost Model (`xgboost`)"
   ]
  },
  {
   "cell_type": "code",
   "execution_count": null,
   "metadata": {},
   "outputs": [],
   "source": [
    "def generate_predictions_xgbdtree(η=100, Δ=3, θ=0, G=\"depthwise\", α=0.1, O=\"binary:logistic\", B=\"gbtree\", γ=0, ss=1, λ=0, Λ=1, seed=None):\n",
    "\tstart_time = time.time()\n",
    "\txgb_model = xgb.XGBClassifier(\n",
    "\t\tn_estimators=η,\n",
    "\t\tmax_depth=Δ,\n",
    "\t\tmax_leaves=θ if θ > 0 else None,\n",
    "\t\tgrow_policy=G,\n",
    "\t\tlearning_rate=α,\n",
    "\t\tobjective=O,\n",
    "\t\tbooster=B,\n",
    "\t\tgamma=γ,\n",
    "\t\tsubsample=ss,\n",
    "\t\treg_alpha=λ,\n",
    "\t\treg_lambda=Λ,\n",
    "\t\trandom_state=seed,\n",
    "\t\tn_jobs=-1\n",
    "\t)\n",
    "\txgb_model.fit(X_train, y_train.ravel())\n",
    "\tpredictions = xgb_model.predict(X_test)\n",
    "\tos.makedirs(\"./predictions/xgboost/\", exist_ok=True)\n",
    "\tfile_name = os.path.join(\"./predictions/xgboost/\", f\"η={η},Δ={Δ},θ={θ},G={G},α={α},O={O},B={B},γ={γ},ss={ss},λ={λ},Λ={Λ},seed={seed}.csv\")\n",
    "\tpd.DataFrame({\n",
    "\t\t\"id\": S_test[\"id\"],\n",
    "\t\t\"label\": predictions\n",
    "\t}).to_csv(file_name, index=False)\n",
    "\tend_time = time.time()\n",
    "\t# Log and print success message.\n",
    "\tlogging.info(f\"Predictions file {file_name} generated in {end_time - start_time:.2f}s.\")\n",
    "\tprint(f\"Predictions file {file_name} generated in {end_time - start_time:.2f}s.\")"
   ]
  },
  {
   "cell_type": "markdown",
   "metadata": {},
   "source": [
    "### Voting Area"
   ]
  },
  {
   "cell_type": "code",
   "execution_count": null,
   "metadata": {},
   "outputs": [],
   "source": [
    "def generate_voted_predictions(models_params, scores):\n",
    "\tprediction_files = []\n",
    "\tfor model, params in models_params:\n",
    "\t\tif model == \"hgbdtree\":\n",
    "\t\t\tfile_name = os.path.join(\"./predictions/hgbdtree/\", f\"α={params[\"α\"]},τ={params[\"τ\"]},θ={params[\"θ\"]},Δ={params[\"Δ\"]},ℓ={params[\"ℓ\"]},seed={params[\"seed\"]}.csv\")\n",
    "\t\t\tif not os.path.exists(file_name):\n",
    "\t\t\t\tfile_name = generate_predictions_hgbdtree(**params)\n",
    "\t\telif model == \"logreg\":\n",
    "\t\t\tfile_name = os.path.join(\"./predictions/logreg/\", f\"τ={params[\"τ\"]},α={params[\"α\"]},G={params[\"G\"]},β={params[\"β\"]},R={params[\"R\"]},λ={params[\"λ\"]}.csv\")\n",
    "\t\t\tif not os.path.exists(file_name):\n",
    "\t\t\t\tfile_name = generate_predictions_logreg(**params)\n",
    "\t\tprediction_files.append(file_name)\n",
    "\tpredictions_list = []\n",
    "\tids = None\n",
    "\tfor file in prediction_files:\n",
    "\t\tdf = pd.read_csv(file)\n",
    "\t\tif ids is None: ids = df[\"id\"].values\n",
    "\t\tpredictions_list.append(df[\"label\"].values)\n",
    "\n",
    "\tif not all(len(pred) == len(ids) for pred in predictions_list): raise ValueError(\"Mismatch in number of predictions across files\")\n",
    "\n",
    "\tpredictions_array = np.array(predictions_list)\n",
    "\tprobabilities = np.array(scores) / np.sum(scores)\n",
    "\tfinal_predictions = []\n",
    "\tfor i in range(len(ids)):\n",
    "\t\tmodel_predictions = predictions_array[:, i]\n",
    "\t\tweighted_votes = np.zeros(2)\n",
    "\t\tfor j in range(len(predictions_list)):\n",
    "\t\t\tweighted_votes[int(model_predictions[j])] += probabilities[j]\n",
    "\t\tfinal_label = np.argmax(weighted_votes)\n",
    "\t\tfinal_predictions.append(final_label)\n",
    "\tos.makedirs(\"./predictions/\", exist_ok=True)\n",
    "\tfile_name = os.path.join(\"./predictions/\", \"probabilistic_voting.csv\")\n",
    "\tsubmission = pd.DataFrame({\n",
    "\t\t\"id\": ids,\n",
    "\t\t\"label\": final_predictions\n",
    "\t})\n",
    "\tsubmission.to_csv(file_name, index=False)\n",
    "\tprint(f\"Probabilistic voting predictions saved to {file_name}\")\n",
    "\n",
    "models_params = [\n",
    "\t(\"logreg\", {\"τ\": 1000, \"α\": 0.085, \"G\": \"mini-batch\", \"β\": 128, \"R\": None, \"λ\": 0}),\n",
    "\t(\"hgbdtree\", {\"α\": 0.1, \"τ\": 100, \"θ\": None, \"Δ\": None, \"ℓ\": 20, \"seed\": 7}),\n",
    "\t(\"hgbdtree\", {\"α\": 0.1, \"τ\": 1000, \"θ\": 31, \"Δ\": None, \"ℓ\": 20, \"seed\": 8})\n",
    "]\n",
    "scores = [0.70475, 0.71533, 0.71628]\n",
    "\n",
    "generate_voted_predictions(models_params, scores)"
   ]
  }
 ],
 "metadata": {
  "kernelspec": {
   "display_name": "Jupyter",
   "language": "python",
   "name": "jupyter"
  },
  "language_info": {
   "codemirror_mode": {
    "name": "ipython",
    "version": 3
   },
   "file_extension": ".py",
   "mimetype": "text/x-python",
   "name": "python",
   "nbconvert_exporter": "python",
   "pygments_lexer": "ipython3",
   "version": "3.11.5"
  }
 },
 "nbformat": 4,
 "nbformat_minor": 2
}
