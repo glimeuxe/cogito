{
 "cells": [
  {
   "cell_type": "markdown",
   "metadata": {},
   "source": [
    "<p>\n",
    "50.007 MACHINE LEARNING<br />\n",
    "2024 SUMMER<br />\n",
    "<b>COGITO</b><br />\n",
    "</p>"
   ]
  },
  {
   "cell_type": "markdown",
   "metadata": {},
   "source": [
    "# Setup"
   ]
  },
  {
   "cell_type": "code",
   "execution_count": 1,
   "metadata": {},
   "outputs": [],
   "source": [
    "from base import *\n",
    "from grid_search import cv_grid_search\n",
    "from random_search import cv_random_search\n",
    "from simulated_annealing import SimulatedAnnealing, cv_simulated_annealing\n",
    "\n",
    "logging.basicConfig(filename=\"log\", level=logging.INFO, format=\"%(asctime)s - %(message)s\", datefmt=\"%Y-%m-%d %H:%M\")"
   ]
  },
  {
   "cell_type": "markdown",
   "metadata": {},
   "source": [
    "# Task 1"
   ]
  },
  {
   "cell_type": "code",
   "execution_count": null,
   "metadata": {},
   "outputs": [],
   "source": [
    "def σ(z): return 1 / (1 + np.exp(-z))\n",
    "# def ce_loss(y, ŷ): return (-1/(y.shape[0])) * np.sum(y * np.log(ŷ) + (1 - y) * np.log(1 - ŷ))\n",
    "\n",
    "# Return dw and db, for some X, y, ŷ, w, R, and λ.\n",
    "def gradients_logreg(X, y, ŷ, w, R=None, λ=0):\n",
    "\tm, _ = X.shape\n",
    "\tdw = 1/m * np.dot(X.T, (ŷ - y))\n",
    "\tdb = 1/m * np.sum(ŷ - y)\n",
    "\tif R == \"L2\":\n",
    "\t\tdw += λ * w / m\n",
    "\telif R == \"L1\":\n",
    "\t\tdw += λ * np.sign(w) / m\n",
    "\treturn dw, db\n",
    "\n",
    "# Return (w, b) from gradient descent on X_train and y_train, for some τ, α, G, β, R, and λ.\n",
    "def train_logreg(X_train, y_train, τ=1000, α=0.1, G=\"mini-batch\", β=128, R=None, λ=0):\n",
    "\tm, n = X_train.shape\n",
    "\tw, b = np.zeros((n, 1)), 0\n",
    "\tfor epoch in range(τ):\n",
    "\t\tif G == \"full-batch\":\n",
    "\t\t\tX_batch, y_batch = X_train, y_train\n",
    "\t\t\tŷ = σ(np.dot(X_batch, w) + b)\n",
    "\t\t\tdw, db = gradients_logreg(X_batch, y_batch, ŷ, w, R, λ)\n",
    "\t\t\tw, b = w - α*dw, b - α*db\n",
    "\t\telif G == \"mini-batch\":\n",
    "\t\t\tfor i in range(0, m, β):\n",
    "\t\t\t\tX_batch, y_batch = X_train[i:i+β], y_train[i:i+β]\n",
    "\t\t\t\tŷ = σ(np.dot(X_batch, w) + b)\n",
    "\t\t\t\tdw, db = gradients_logreg(X_batch, y_batch, ŷ, w, R, λ)\n",
    "\t\t\t\tw, b = w - α*dw, b - α*db\n",
    "\t\telif G == \"stochastic\":\n",
    "\t\t\tfor i in range(m):\n",
    "\t\t\t\tX_batch, y_batch = X_train[i:i+1], y_train[i:i+1]\n",
    "\t\t\t\tŷ = σ(np.dot(X_batch, w) + b)\n",
    "\t\t\t\tdw, db = gradients_logreg(X_batch, y_batch, ŷ, w, R, λ)\n",
    "\t\t\t\tw, b = w - α*dw, b - α*db\n",
    "\treturn w, b\n",
    "\n",
    "# Return array of predictions, where each prediction is 1 if corresponding ŷ entry > 0.5, and 0 otherwise.\n",
    "def predict_logreg(wb_tuple, X):\n",
    "\tw, b = wb_tuple\n",
    "\tŷ = σ(np.dot(X, w) + b)\n",
    "\treturn np.array([1 if p > 0.5 else 0 for p in ŷ])\n",
    "\n",
    "# Train model, make predictions, and save predictions to CSV file.\n",
    "def generate_predictions_logreg(τ=1000, α=0.1, G=\"mini-batch\", β=128, R=None, λ=0):\n",
    "\tstart_time = time.time()\n",
    "\tw, b = train_logreg(np.array(X_train), np.array(y_train), τ, α, G, β, R, λ)\n",
    "\tpredictions = predict_logreg((w, b), np.array(X_test))\n",
    "\tos.makedirs(\"./predictions/logreg/\", exist_ok=True)\n",
    "\tfile_name = os.path.join(\"./predictions/logreg/\", f\"τ={τ},α={α},G={G},β={β},R={R},λ={λ}.csv\")\n",
    "\tpd.DataFrame({\"id\": S_test[\"id\"], \"label\": predictions}).to_csv(file_name, index=False)\n",
    "\tend_time = time.time()\n",
    "\tlogging.info(f\"Predictions file {file_name} generated in {end_time - start_time:.2f}s.\")\n",
    "\tprint(f\"Predictions file {file_name} generated in {end_time - start_time:.2f}s.\")"
   ]
  },
  {
   "cell_type": "code",
   "execution_count": null,
   "metadata": {},
   "outputs": [],
   "source": [
    "# generate_predictions_logreg(τ=1, α=0.08, G=\"mini-batch\", β=128, R=None, λ=0)\n",
    "# generate_predictions_logreg(τ=1000, α=0.08, G=\"stochastic\", R=L2, λ=0.5)"
   ]
  },
  {
   "cell_type": "markdown",
   "metadata": {},
   "source": [
    "## Task 2"
   ]
  },
  {
   "cell_type": "code",
   "execution_count": null,
   "metadata": {},
   "outputs": [],
   "source": [
    "def apply_pca(x):\n",
    "\tscaler = StandardScaler()\n",
    "\tX_train_scaled = scaler.fit_transform(X_train)\n",
    "\tX_test_scaled = scaler.transform(X_test)\n",
    "\tif 0 <= x <= 1:\n",
    "\t\t# x is variance threshold.\n",
    "\t\tpca = PCA(n_components=None)\n",
    "\t\tpca.fit(X_train_scaled)\n",
    "\t\tc = np.argmax(np.cumsum(pca.explained_variance_ratio_) >= x) + 1\n",
    "\t\tv = x\n",
    "\telse:\n",
    "\t\t# x is number of components.\n",
    "\t\tpca = PCA(n_components=x)\n",
    "\t\tpca.fit(X_train_scaled)\n",
    "\t\tc = x\n",
    "\t\tv = sum(pca.explained_variance_ratio_)\n",
    "\t# Transform train and test datasets.\n",
    "\tX_train_pca = pca.transform(X_train_scaled)\n",
    "\tX_test_pca = pca.transform(X_test_scaled)\n",
    "\treturn X_train_pca, X_test_pca, c, v\n",
    "\n",
    "def train_SKLknn(X_train, y_train, k=5, W=\"uniform\", p=2, m=\"minkowski\"):\n",
    "\tmodel = KNeighborsClassifier(\n",
    "\t\tn_neighbors=k,\n",
    "\t\tweights=W,\n",
    "\t\tp=p,\n",
    "\t\tmetric=m,\n",
    "\t\tn_jobs=-1\n",
    "\t)\n",
    "\tmodel.fit(X_train, y_train)\n",
    "\treturn model\n",
    "\n",
    "def predict_SKLknn(model, X): return model.predict(X)\n",
    "\n",
    "# Train model, make model predictions, and save model predictions to CSV file.\n",
    "def generate_predictions_pcaknn(x):\n",
    "\tstart_time = time.time()\n",
    "\tX_train_pca, X_test_pca, c, v = apply_pca(x)\n",
    "\tmodel = train_SKLknn(X_train_pca, y_train, k=2)\n",
    "\tpredictions = predict_SKLknn(model, X_test_pca)\n",
    "\tos.makedirs(\"./predictions/pcaknn/\", exist_ok=True)\n",
    "\tfile_name = os.path.join(\"./predictions/pcaknn/\", f\"pcaknn(ρ={c},ν={v:.2f}).csv\")\n",
    "\tpd.DataFrame({\"id\": S_test[\"id\"], \"label\": predictions}).to_csv(file_name, index=False)\n",
    "\tend_time = time.time()\n",
    "\tlogging.info(f\"Predictions file {file_name} generated in {end_time - start_time:.2f}s.\")\n",
    "\tprint(f\"Predictions file {file_name} generated in {end_time - start_time:.2f}s.\")"
   ]
  },
  {
   "cell_type": "code",
   "execution_count": null,
   "metadata": {},
   "outputs": [],
   "source": [
    "# generate_predictions_pcaknn(100)\n",
    "# generate_predictions_pcaknn(500)\n",
    "# generate_predictions_pcaknn(1000)\n",
    "# generate_predictions_pcaknn(2000)\n",
    "# generate_predictions_pcaknn(5000)"
   ]
  },
  {
   "cell_type": "markdown",
   "metadata": {},
   "source": [
    "## Task 3"
   ]
  },
  {
   "cell_type": "markdown",
   "metadata": {},
   "source": [
    "## SKLknn"
   ]
  },
  {
   "cell_type": "code",
   "execution_count": null,
   "metadata": {},
   "outputs": [],
   "source": [
    "# Default:\n",
    "# generate_predictions(\n",
    "# \t\"SKLknn\",\n",
    "# \tn_neighbors=5,\n",
    "# \tweights=\"uniform\",\n",
    "# \tp=2,\n",
    "# \tmetric=\"minkowski\"\n",
    "# )\n",
    "\n",
    "# cv_grid_search(\"SKLknn\", grid={\n",
    "# \t\"n_neighbors\": [2, 3, 4],\n",
    "# \t\"weights\": [\"uniform\", \"distance\"],\n",
    "# \t\"leaf_size\": [20, 30, 40]\n",
    "# }, k=5)"
   ]
  },
  {
   "cell_type": "markdown",
   "metadata": {},
   "source": [
    "## SKLrf"
   ]
  },
  {
   "cell_type": "code",
   "execution_count": null,
   "metadata": {},
   "outputs": [],
   "source": [
    "# Default:\n",
    "# generate_predictions(\n",
    "# \t\"SKLrf\",\n",
    "# \tn_estimators=100,\n",
    "# \tcriterion=\"gini\",\n",
    "# \tmax_depth=None,\n",
    "# \tmin_samples_split=2,\n",
    "# \tmin_samples_leaf=1,\n",
    "# \tmax_leaf_nodes=None,\n",
    "# \trandom_state=None\n",
    "# )"
   ]
  },
  {
   "cell_type": "markdown",
   "metadata": {},
   "source": [
    "## SKLsvm"
   ]
  },
  {
   "cell_type": "code",
   "execution_count": null,
   "metadata": {},
   "outputs": [],
   "source": [
    "# Default:\n",
    "# generate_predictions(\n",
    "# \t\"SKLsvm\",\n",
    "# \tC=1.0,\n",
    "# \tkernel=\"rbf\",\n",
    "# \tdegree=3,\n",
    "# \tgamma=\"scale\",\n",
    "# \tmax_iter=-1,\n",
    "# \trandom_state=None\n",
    "# )\n"
   ]
  },
  {
   "cell_type": "code",
   "execution_count": null,
   "metadata": {},
   "outputs": [],
   "source": [
    "# cv_grid_search(\"SKLsvm\", grid={\n",
    "# \t\"C\": [0.8, 0.9, 1.0],\n",
    "# \t\"kernel\": [\"linear\", \"poly\", \"rbf\"],\n",
    "# \t\"gamma\": [\"scale\"]\n",
    "# }, k=5)"
   ]
  },
  {
   "cell_type": "markdown",
   "metadata": {},
   "source": [
    "## SKLlogreg"
   ]
  },
  {
   "cell_type": "code",
   "execution_count": null,
   "metadata": {},
   "outputs": [],
   "source": [
    "# generate_predictions(\n",
    "# \t\"SKLlogreg\",\n",
    "# \tC=5.1,\n",
    "# \tmax_iter=300\n",
    "# )\n",
    "\n",
    "cv_grid_search(\"SKLlogreg\", grid={\n",
    "\t\"tol\": [0.00005],\n",
    "\t\"C\": [0.8, 1.6, 2.4, 3.2, 4.0, 4.8],\n",
    "\t\"max_iter\": [800, 1600, 2400, 3200, 4000]\n",
    "}, k=5)"
   ]
  },
  {
   "cell_type": "markdown",
   "metadata": {},
   "source": [
    "## SKLgb"
   ]
  },
  {
   "cell_type": "code",
   "execution_count": null,
   "metadata": {},
   "outputs": [],
   "source": [
    "# Default:\n",
    "# generate_predictions(\n",
    "# \t\"SKLgb\",\n",
    "# \tlearning_rate=0.1,\n",
    "# \tn_estimators=100,\n",
    "# \tsubsample=1.0,\n",
    "# \tmin_samples_split=2,\n",
    "# \tmin_samples_leaf=1,\n",
    "# \tmax_depth=3,\n",
    "# \trandom_state=None,\n",
    "# \tmax_leaf_nodes=None\n",
    "# )"
   ]
  },
  {
   "cell_type": "markdown",
   "metadata": {},
   "source": [
    "## SKLhgb"
   ]
  },
  {
   "cell_type": "code",
   "execution_count": null,
   "metadata": {},
   "outputs": [],
   "source": [
    "# Default:\n",
    "# generate_predictions(\n",
    "# \t\"SKLhgb\",\n",
    "# \tlearning_rate=0.1,\n",
    "# \tmax_iter=100,\n",
    "# \tmax_leaf_nodes=31,\n",
    "# \tmax_depth=None,\n",
    "# \tmin_samples_leaf=20,\n",
    "# \tl2_regularization=0.0,\n",
    "# \trandom_state=None\n",
    "# )\n",
    "\n",
    "# cv_grid_search(\"SKLhgb\", grid={\n",
    "# \t\"learning_rate\": [0.08],\n",
    "# \t\"max_depth\": [80]\n",
    "# \t\"max_iter\": [500],\n",
    "# \t\"max_leaf_nodes\": [70, 75, 80],\n",
    "# \t\"min_samples_leaf\": [15, 18, 20]\n",
    "# }, k=5)"
   ]
  },
  {
   "cell_type": "markdown",
   "metadata": {},
   "source": [
    "## XGBgb"
   ]
  },
  {
   "cell_type": "code",
   "execution_count": null,
   "metadata": {},
   "outputs": [],
   "source": [
    "# Default:\n",
    "# generate_predictions(\n",
    "# \t\"XGBgb\",\n",
    "# \tn_estimators=100,\n",
    "# \tmax_depth=6,\n",
    "# \tlearning_rate=0.3,\n",
    "# \tbooster=\"gbtree\",\n",
    "# \tsubsample=1.0,\n",
    "# \treg_alpha=0,\n",
    "# \treg_lambda=1,\n",
    "# \trandom_state=None\n",
    "# )\n",
    "\n",
    "cv_grid_search(\"XGBgb\", grid={\n",
    "\t\"n_estimators\": [600, 800, 1000],\n",
    "\t\"max_depth\": [8, 12, 16],\n",
    "\t\"learning_rate\": [0.1],\n",
    "\t\"subsample\": [0.8],\n",
    "\t\"reg_alpha\": [0.1],\n",
    "\t\"reg_lambda\": [2, 2.4]\n",
    "}, k=5)"
   ]
  },
  {
   "cell_type": "markdown",
   "metadata": {},
   "source": [
    "## CBgb"
   ]
  },
  {
   "cell_type": "code",
   "execution_count": null,
   "metadata": {},
   "outputs": [],
   "source": [
    "# Expected default:\n",
    "# generate_predictions(\n",
    "# \t\"CBgb\",\n",
    "# \tlearning_rate=0.03,\n",
    "# \tsubsample=0.8,\n",
    "# \tmax_depth=6,\n",
    "# \tn_estimators=1000,\n",
    "# \treg_lambda=3.0,\n",
    "# \trandom_state=None\n",
    "# )\n",
    "\n",
    "# generate_predictions(\n",
    "# \t\"CBgb\",\n",
    "# \tlearning_rate=0.1,\n",
    "# \tsubsample=0.8,\n",
    "# \tmax_depth=12,\n",
    "# \tn_estimators=800,\n",
    "# \treg_lambda=3.6,\n",
    "# \trandom_state=None\n",
    "# )\n",
    "\n",
    "cv_grid_search(\"CBgb\", grid={\n",
    "\t\"learning_rate\": [0.1],\n",
    "\t\"max_depth\": [12, 14],\n",
    "\t\"n_estimators\": [800],\n",
    "\t\"reg_lambda\": [3.6]\n",
    "}, k=5)\n",
    "\n",
    "# cv_random_search(\"CBgb\", grid={\n",
    "# \t\"learning_rate\": uniform(0.001, 0.1),\n",
    "# \t\"max_depth\": randint(1, 2),\n",
    "# \t\"n_estimators\": randint(1, 2),\n",
    "# }, k=2, n_iter=1)\n",
    "\n",
    "# cv_simulated_annealing(model_name=\"CBgb\", grid={\n",
    "# \t\"learning_rate\": (0.06, 0.12),\n",
    "# \t\"max_depth\": [12],\n",
    "# \t\"reg_lambda\": (0.1, 1)\n",
    "# })"
   ]
  },
  {
   "cell_type": "markdown",
   "metadata": {},
   "source": [
    "## SKLstack"
   ]
  },
  {
   "cell_type": "code",
   "execution_count": 3,
   "metadata": {},
   "outputs": [
    {
     "name": "stderr",
     "output_type": "stream",
     "text": [
      "/Users/gregory/miniconda3/envs/Jupyter/lib/python3.11/site-packages/sklearn/preprocessing/_label.py:97: DataConversionWarning: A column-vector y was passed when a 1d array was expected. Please change the shape of y to (n_samples, ), for example using ravel().\n",
      "  y = column_or_1d(y, warn=True)\n",
      "/Users/gregory/miniconda3/envs/Jupyter/lib/python3.11/site-packages/sklearn/preprocessing/_label.py:132: DataConversionWarning: A column-vector y was passed when a 1d array was expected. Please change the shape of y to (n_samples, ), for example using ravel().\n",
      "  y = column_or_1d(y, dtype=self.classes_.dtype, warn=True)\n"
     ]
    },
    {
     "name": "stdout",
     "output_type": "stream",
     "text": [
      "0:\tlearn: 0.6663046\ttotal: 911ms\tremaining: 911ms\n",
      "1:\tlearn: 0.6526261\ttotal: 1.8s\tremaining: 0us\n",
      "0:\tlearn: 0.6679540\ttotal: 835ms\tremaining: 835ms\n",
      "1:\tlearn: 0.6512620\ttotal: 1.62s\tremaining: 0us\n",
      "0:\tlearn: 0.6690208\ttotal: 847ms\tremaining: 847ms\n",
      "1:\tlearn: 0.6545719\ttotal: 1.64s\tremaining: 0us\n",
      "0:\tlearn: 0.6705788\ttotal: 850ms\tremaining: 850ms\n",
      "1:\tlearn: 0.6533094\ttotal: 1.61s\tremaining: 0us\n",
      "0:\tlearn: 0.6717868\ttotal: 809ms\tremaining: 809ms\n",
      "1:\tlearn: 0.6552555\ttotal: 1.55s\tremaining: 0us\n",
      "0:\tlearn: 0.6682308\ttotal: 792ms\tremaining: 792ms\n",
      "1:\tlearn: 0.6524243\ttotal: 1.59s\tremaining: 0us\n",
      "0:\tlearn: 0.6663046\ttotal: 1.03s\tremaining: 1.03s\n",
      "1:\tlearn: 0.6526261\ttotal: 1.99s\tremaining: 0us\n",
      "0:\tlearn: 0.6679540\ttotal: 814ms\tremaining: 814ms\n",
      "1:\tlearn: 0.6512620\ttotal: 1.57s\tremaining: 0us\n",
      "0:\tlearn: 0.6690208\ttotal: 789ms\tremaining: 789ms\n",
      "1:\tlearn: 0.6545719\ttotal: 1.51s\tremaining: 0us\n",
      "0:\tlearn: 0.6705788\ttotal: 827ms\tremaining: 827ms\n",
      "1:\tlearn: 0.6533094\ttotal: 1.64s\tremaining: 0us\n",
      "0:\tlearn: 0.6717868\ttotal: 803ms\tremaining: 803ms\n",
      "1:\tlearn: 0.6552555\ttotal: 1.54s\tremaining: 0us\n",
      "0:\tlearn: 0.6682308\ttotal: 873ms\tremaining: 873ms\n",
      "1:\tlearn: 0.6524243\ttotal: 1.67s\tremaining: 0us\n",
      "Predictions file ./predictions/SKLstack/predictions.csv generated in 400.47s.\n"
     ]
    }
   ],
   "source": [
    "generate_predictions(\n",
    "\t\"SKLstack\",\n",
    "\tverbose=2\n",
    ")"
   ]
  },
  {
   "cell_type": "code",
   "execution_count": 2,
   "metadata": {},
   "outputs": [
    {
     "name": "stdout",
     "output_type": "stream",
     "text": [
      "Fitting 2 folds for each of 1 candidates, totalling 2 fits\n",
      "0:\tlearn: 0.6720152\ttotal: 585ms\tremaining: 585ms\n",
      "1:\tlearn: 0.6550579\ttotal: 1.07s\tremaining: 0us\n",
      "0:\tlearn: 0.6741770\ttotal: 442ms\tremaining: 442ms\n",
      "1:\tlearn: 0.6575064\ttotal: 842ms\tremaining: 0us\n",
      "0:\tlearn: 0.6729465\ttotal: 450ms\tremaining: 450ms\n",
      "1:\tlearn: 0.6532547\ttotal: 855ms\tremaining: 0us\n",
      "0:\tlearn: 0.6689039\ttotal: 416ms\tremaining: 416ms\n",
      "1:\tlearn: 0.6556181\ttotal: 789ms\tremaining: 0us\n",
      "0:\tlearn: 0.6697402\ttotal: 402ms\tremaining: 402ms\n",
      "1:\tlearn: 0.6538554\ttotal: 791ms\tremaining: 0us\n",
      "0:\tlearn: 0.6684058\ttotal: 395ms\tremaining: 395ms\n",
      "1:\tlearn: 0.6519758\ttotal: 769ms\tremaining: 0us\n",
      "[CV 1/2] END final_estimator__C=1.0, final_estimator__penalty=l2;, score=0.544 total time= 2.4min\n",
      "0:\tlearn: 0.6753126\ttotal: 520ms\tremaining: 520ms\n",
      "1:\tlearn: 0.6582344\ttotal: 992ms\tremaining: 0us\n",
      "0:\tlearn: 0.6728565\ttotal: 442ms\tremaining: 442ms\n",
      "1:\tlearn: 0.6578969\ttotal: 870ms\tremaining: 0us\n",
      "0:\tlearn: 0.6734101\ttotal: 509ms\tremaining: 509ms\n",
      "1:\tlearn: 0.6625081\ttotal: 934ms\tremaining: 0us\n",
      "0:\tlearn: 0.6741427\ttotal: 416ms\tremaining: 416ms\n",
      "1:\tlearn: 0.6583411\ttotal: 807ms\tremaining: 0us\n",
      "0:\tlearn: 0.6707527\ttotal: 428ms\tremaining: 428ms\n",
      "1:\tlearn: 0.6578605\ttotal: 832ms\tremaining: 0us\n",
      "0:\tlearn: 0.6743123\ttotal: 461ms\tremaining: 461ms\n",
      "1:\tlearn: 0.6538012\ttotal: 857ms\tremaining: 0us\n",
      "[CV 2/2] END final_estimator__C=1.0, final_estimator__penalty=l2;, score=0.539 total time= 2.5min\n",
      "0:\tlearn: 0.6663046\ttotal: 1.1s\tremaining: 1.1s\n",
      "1:\tlearn: 0.6526261\ttotal: 2.11s\tremaining: 0us\n",
      "0:\tlearn: 0.6679540\ttotal: 833ms\tremaining: 833ms\n",
      "1:\tlearn: 0.6512620\ttotal: 1.61s\tremaining: 0us\n",
      "0:\tlearn: 0.6690208\ttotal: 814ms\tremaining: 814ms\n",
      "1:\tlearn: 0.6545719\ttotal: 1.58s\tremaining: 0us\n",
      "0:\tlearn: 0.6705788\ttotal: 864ms\tremaining: 864ms\n",
      "1:\tlearn: 0.6533094\ttotal: 1.69s\tremaining: 0us\n",
      "0:\tlearn: 0.6717868\ttotal: 958ms\tremaining: 958ms\n",
      "1:\tlearn: 0.6552555\ttotal: 1.78s\tremaining: 0us\n",
      "0:\tlearn: 0.6682308\ttotal: 877ms\tremaining: 877ms\n",
      "1:\tlearn: 0.6524243\ttotal: 1.85s\tremaining: 0us\n",
      "Best hyperparameters: {'final_estimator__C': 1.0, 'final_estimator__penalty': 'l2'}\n",
      "Mean cross-validated f1 for best model: 0.5416744914419875\n"
     ]
    },
    {
     "data": {
      "text/plain": [
       "(StackingClassifier(estimators=[('SKLhgb', HistGradientBoostingClassifier()),\n",
       "                                ('XGBgb',\n",
       "                                 XGBClassifier(base_score=None, booster=None,\n",
       "                                               callbacks=None,\n",
       "                                               colsample_bylevel=None,\n",
       "                                               colsample_bynode=None,\n",
       "                                               colsample_bytree=None,\n",
       "                                               device=None,\n",
       "                                               early_stopping_rounds=None,\n",
       "                                               enable_categorical=False,\n",
       "                                               eval_metric=None,\n",
       "                                               feature_types=None, gamma=None,\n",
       "                                               grow_policy=None,\n",
       "                                               importance_ty...\n",
       "                                               learning_rate=0.1, max_bin=None,\n",
       "                                               max_cat_threshold=None,\n",
       "                                               max_cat_to_onehot=None,\n",
       "                                               max_delta_step=None, max_depth=4,\n",
       "                                               max_leaves=None,\n",
       "                                               min_child_weight=None,\n",
       "                                               missing=nan,\n",
       "                                               monotone_constraints=None,\n",
       "                                               multi_strategy=None,\n",
       "                                               n_estimators=2, n_jobs=None,\n",
       "                                               num_parallel_tree=None,\n",
       "                                               random_state=None, ...)),\n",
       "                                ('CBgb',\n",
       "                                 <catboost.core.CatBoostClassifier object at 0x3253625d0>)],\n",
       "                    final_estimator=LogisticRegression()),\n",
       " {'final_estimator__C': 1.0, 'final_estimator__penalty': 'l2'})"
      ]
     },
     "execution_count": 2,
     "metadata": {},
     "output_type": "execute_result"
    }
   ],
   "source": [
    "# cv_grid_search(\"SKLstack\", grid={\n",
    "# \t\"penalty\": [\"l2\"],\n",
    "# \t\"C\": [1]\n",
    "# }, k=5)\n",
    "\n",
    "cv_grid_search(\"SKLstack\", grid={\n",
    "\t\"penalty\": [\"l2\"],\n",
    "\t\"C\": [1.0]\n",
    "}, k=2)"
   ]
  }
 ],
 "metadata": {
  "kernelspec": {
   "display_name": "Jupyter",
   "language": "python",
   "name": "jupyter"
  },
  "language_info": {
   "codemirror_mode": {
    "name": "ipython",
    "version": 3
   },
   "file_extension": ".py",
   "mimetype": "text/x-python",
   "name": "python",
   "nbconvert_exporter": "python",
   "pygments_lexer": "ipython3",
   "version": "3.11.5"
  }
 },
 "nbformat": 4,
 "nbformat_minor": 2
}
